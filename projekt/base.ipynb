{
 "cells": [
  {
   "cell_type": "code",
   "execution_count": 5,
   "metadata": {},
   "outputs": [],
   "source": [
    "import numpy as np\n",
    "import matplotlib.pyplot as plt\n",
    "from matplotlib.patches import Circle, Rectangle\n",
    "from skimage import io, draw\n",
    "import skimage.color as sc\n",
    "from skimage.color import rgb2gray as r2g, rgb2hsv as r2h\n",
    "from skimage.feature import canny\n",
    "from skimage.morphology import dilation, erosion\n",
    "from skimage.filters import gaussian\n",
    "from ipywidgets import interact\n",
    "from skimage.morphology import convex_hull_image as conhu\n",
    "from skimage.measure import label, regionprops\n",
    "from skimage.measure import find_contours as fc\n",
    "from utils import *"
   ]
  }
 ],
 "metadata": {
  "kernelspec": {
   "display_name": "Python 3",
   "language": "python",
   "name": "python3"
  },
  "language_info": {
   "codemirror_mode": {
    "name": "ipython",
    "version": 3
   },
   "file_extension": ".py",
   "mimetype": "text/x-python",
   "name": "python",
   "nbconvert_exporter": "python",
   "pygments_lexer": "ipython3",
   "version": "3.8.6"
  }
 },
 "nbformat": 4,
 "nbformat_minor": 4
}

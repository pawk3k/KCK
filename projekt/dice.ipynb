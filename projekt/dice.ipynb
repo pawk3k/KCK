{
 "cells": [
  {
   "cell_type": "code",
   "execution_count": 1,
   "metadata": {},
   "outputs": [],
   "source": [
    "import matplotlib.pyplot as plt\n",
    "from skimage.color import rgb2gray\n",
    "from skimage.transform import hough_circle as hc, hough_circle_peaks as hcp\n",
    "from skimage import io\n",
    "from skimage.feature import canny\n",
    "import numpy as np\n",
    "from matplotlib.patches import Circle\n",
    "from skimage.draw import circle_perimeter as cp"
   ]
  },
  {
   "cell_type": "code",
   "execution_count": 2,
   "metadata": {},
   "outputs": [],
   "source": [
    "p = io.imread('dice.jpg')\n",
    "p1 = p.copy()\n",
    "b = rgb2gray(p)"
   ]
  },
  {
   "cell_type": "code",
   "execution_count": 8,
   "metadata": {},
   "outputs": [],
   "source": [
    "%matplotlib qt"
   ]
  },
  {
   "cell_type": "code",
   "execution_count": 12,
   "metadata": {},
   "outputs": [
    {
     "data": {
      "text/plain": [
       "<matplotlib.image.AxesImage at 0x7f0f60273220>"
      ]
     },
     "execution_count": 12,
     "metadata": {},
     "output_type": "execute_result"
    }
   ],
   "source": [
    "ex = canny(b, sigma=3)\n",
    "plt.figure(figsize=(20,10))\n",
    "plt.imshow(ex)"
   ]
  },
  {
   "cell_type": "code",
   "execution_count": 4,
   "metadata": {},
   "outputs": [],
   "source": [
    "rad = np.arange(5, 50)\n",
    "hres = hc(ex, rad)"
   ]
  },
  {
   "cell_type": "code",
   "execution_count": 5,
   "metadata": {},
   "outputs": [
    {
     "data": {
      "text/plain": [
       "<Figure size 1440x720 with 0 Axes>"
      ]
     },
     "metadata": {},
     "output_type": "display_data"
    }
   ],
   "source": [
    "plt.figure(figsize=(20,10))\n",
    "accums, cx, cy, radii = hcp(hres, rad, total_num_peaks=10)"
   ]
  },
  {
   "cell_type": "code",
   "execution_count": 11,
   "metadata": {},
   "outputs": [
    {
     "name": "stdout",
     "output_type": "stream",
     "text": [
      "917 878 9\n",
      "904 906 9\n",
      "1170 811 9\n",
      "1215 818 9\n",
      "1182 834 9\n",
      "816 588 8\n",
      "767 628 8\n",
      "814 631 8\n",
      "630 988 10\n",
      "588 1011 10\n"
     ]
    }
   ],
   "source": [
    "p1 = p.copy()\n",
    "b1 = b.copy()\n",
    "q = p1 #np.zeros(p1.shape)\n",
    "plt.figure(0, (20, 10))\n",
    "\n",
    "for x, y, r in zip(cx, cy, radii):\n",
    "    yy,xx = cp(y, x, r)\n",
    "    q[yy,xx]=[1, 0, 0]\n",
    "    print(x, y, r)\n",
    "plt.imshow(q)\n",
    "plt.show()"
   ]
  },
  {
   "cell_type": "code",
   "execution_count": 7,
   "metadata": {},
   "outputs": [
    {
     "ename": "SyntaxError",
     "evalue": "invalid syntax (<ipython-input-7-567a9fc7fb42>, line 3)",
     "output_type": "error",
     "traceback": [
      "\u001b[0;36m  File \u001b[0;32m\"<ipython-input-7-567a9fc7fb42>\"\u001b[0;36m, line \u001b[0;32m3\u001b[0m\n\u001b[0;31m    for i\u001b[0m\n\u001b[0m         ^\u001b[0m\n\u001b[0;31mSyntaxError\u001b[0m\u001b[0;31m:\u001b[0m invalid syntax\n"
     ]
    }
   ],
   "source": [
    "plt.figure(dpi=200)\n",
    "plt.imshow(b, cmap='gray')\n",
    "for i"
   ]
  },
  {
   "cell_type": "code",
   "execution_count": null,
   "metadata": {},
   "outputs": [],
   "source": []
  }
 ],
 "metadata": {
  "kernelspec": {
   "display_name": "Python 3",
   "language": "python",
   "name": "python3"
  },
  "language_info": {
   "codemirror_mode": {
    "name": "ipython",
    "version": 3
   },
   "file_extension": ".py",
   "mimetype": "text/x-python",
   "name": "python",
   "nbconvert_exporter": "python",
   "pygments_lexer": "ipython3",
   "version": "3.8.6"
  }
 },
 "nbformat": 4,
 "nbformat_minor": 4
}
